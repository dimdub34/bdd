{
 "cells": [
  {
   "cell_type": "code",
   "execution_count": 1,
   "id": "e9243ce7-6908-4203-8972-eaf20d3cf698",
   "metadata": {},
   "outputs": [],
   "source": [
    "import sqlite3"
   ]
  },
  {
   "cell_type": "code",
   "execution_count": 10,
   "id": "ccf123c3-688a-480d-a53c-dad6a598e330",
   "metadata": {},
   "outputs": [],
   "source": [
    "requete = \"\"\"\n",
    "SELECT CO.id, C.Nom, C.Prenom, C.Email, P.Nom, P.Prix, CP.Quantite\n",
    "FROM Commande CO\n",
    "INNER JOIN Client C on C.id = CO.client_id\n",
    "INNER JOIN CommandeProduit CP on CP.commande_id = CO.id\n",
    "INNER JOIN Produit P on P.id = CP.Produit_id\n",
    "\"\"\""
   ]
  },
  {
   "cell_type": "code",
   "execution_count": 11,
   "id": "66f0f040-4a77-43c1-a416-fa1ab522fb7b",
   "metadata": {},
   "outputs": [],
   "source": [
    "with sqlite3.connect(\"clients.sqlite\") as connection:\n",
    "    cursor = connection.cursor()\n",
    "    cursor.execute(requete)\n",
    "    results = cursor.fetchall()"
   ]
  },
  {
   "cell_type": "code",
   "execution_count": 14,
   "id": "75f3a870-c32c-4ba9-b57e-896df0547aa4",
   "metadata": {},
   "outputs": [
    {
     "name": "stdout",
     "output_type": "stream",
     "text": [
      "(1, 'DUPONT', 'Martin', 'martin.dupont@email.com', 'Ordinateur portable', 1000, 2)\n",
      "(2, 'DURAND', 'Sophie', 'sophie.durand@email.com', 'Ordinateur fixe', 759.99, 1)\n",
      "(3, 'DUPONT', 'Martin', 'martin.dupont@email.com', 'Vidéo-projecteur', 849.29, 10)\n",
      "(4, 'THOMAS', 'Louis', 'louis.thomas@email.com', 'Ordinateur fixe', 759.99, 3)\n"
     ]
    }
   ],
   "source": [
    "for row in results:\n",
    "    print(row)"
   ]
  },
  {
   "cell_type": "code",
   "execution_count": 19,
   "id": "9b32ed85-d84b-4a8e-84df-0948b3098b43",
   "metadata": {},
   "outputs": [
    {
     "name": "stdout",
     "output_type": "stream",
     "text": [
      "Commande 1, montant total = 2000.00 €\n",
      "Commande 2, montant total = 759.99 €\n",
      "Commande 3, montant total = 8492.90 €\n",
      "Commande 4, montant total = 2279.97 €\n",
      "\n",
      "Soit un montant total de 13532.86 €\n"
     ]
    }
   ],
   "source": [
    "total_commandes = 0\n",
    "for row in results:\n",
    "    print(f\"Commande {row[0]}, montant total = {row[5] * row[6]:.2f} €\")\n",
    "    total_commandes += row[5] * row[6]\n",
    "print()\n",
    "print(f\"Soit un montant total de {total_commandes:.2f} €\")"
   ]
  }
 ],
 "metadata": {
  "kernelspec": {
   "display_name": "Python 3 (ipykernel)",
   "language": "python",
   "name": "python3"
  },
  "language_info": {
   "codemirror_mode": {
    "name": "ipython",
    "version": 3
   },
   "file_extension": ".py",
   "mimetype": "text/x-python",
   "name": "python",
   "nbconvert_exporter": "python",
   "pygments_lexer": "ipython3",
   "version": "3.9.13"
  }
 },
 "nbformat": 4,
 "nbformat_minor": 5
}
